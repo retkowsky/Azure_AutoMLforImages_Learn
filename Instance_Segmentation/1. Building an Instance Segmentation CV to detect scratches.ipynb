{
 "cells": [
  {
   "cell_type": "markdown",
   "metadata": {},
   "source": [
    "# Azure AutoML for Images\n",
    "## AutoML for Images to train and a deploy an instance segmentation model (Part 1)\n",
    "\n",
    "Important: This feature is currently in public preview. This preview version is provided without a service-level agreement. Certain features might not be supported or might have constrained capabilities. For more information, see Supplemental Terms of Use for Microsoft Azure Previews.\n",
    "\n",
    "Serge Retkowsky | serge.retkowsky@microsoft.com | V1 28-June-2022\n",
    "\n",
    "In this notebook you will:\n",
    "\n",
    "- Create an Azure ML experiment\n",
    "- Download some images files to train an instances segmentation model. In this example we will try to detect scratches from a metal piece.\n",
    "- We will do the lalelling part usign Azure ML Data Labelling on the images\n",
    "- Use AutoML for Images to build and train an instance segmentation model\n",
    "- Do some advanced hyperparameter tuning using AutoML for Images advanced options\n",
    "- Deploy the computer vision model into Azure Kubernetes Service\n",
    "- You will test the model in a separate notebook"
   ]
  },
  {
   "cell_type": "markdown",
   "metadata": {},
   "source": [
    "AutoML for Images links:\n",
    "What is AutoML for Images?<br>\n",
    "https://docs.microsoft.com/en-us/azure/machine-learning/concept-automated-ml#computer-vision-preview\n",
    "<br><br>\n",
    "Algorithms<br>\n",
    "https://docs.microsoft.com/en-us/azure/machine-learning/how-to-auto-train-image-models#supported-model-algorithms\n",
    "<br><br>\n",
    "Tutorials<br>\n",
    "https://docs.microsoft.com/en-us/azure/machine-learning/v1/tutorial-auto-train-image-models-v1\n",
    "<br><br>\n",
    "ONNX<br>\n",
    "https://docs.microsoft.com/en-us/azure/machine-learning/how-to-inference-onnx-automl-image-models?tabs=multi-class\n",
    "<br><br>\n",
    "How to use AutoML for Images?<br>\n",
    "https://docs.microsoft.com/en-us/azure/machine-learning/how-to-use-automl-small-object-detect\n",
    "https://docs.microsoft.com/en-us/azure/machine-learning/v1/how-to-auto-train-image-models-v1"
   ]
  },
  {
   "cell_type": "code",
   "execution_count": 1,
   "metadata": {},
   "outputs": [],
   "source": [
    "import datetime\n",
    "import pandas as pd\n",
    "import json\n",
    "import numpy as np\n",
    "import matplotlib.pyplot as plt\n",
    "import matplotlib.image as mpimg\n",
    "import matplotlib.patches as patches\n",
    "import requests\n",
    "import uuid\n",
    "import azureml.core\n",
    "from IPython.display import display_javascript, display_html, display\n",
    "from azureml.core import Workspace, Datastore, Dataset\n",
    "from matplotlib.lines import Line2D\n",
    "from PIL import Image\n",
    "import humanize"
   ]
  },
  {
   "cell_type": "code",
   "execution_count": 2,
   "metadata": {},
   "outputs": [
    {
     "name": "stdout",
     "output_type": "stream",
     "text": [
      "Python version = 3.8.5 (default, Sep  4 2020, 07:30:14) \n",
      "[GCC 7.3.0]\n"
     ]
    }
   ],
   "source": [
    "import sys\n",
    "print(\"Python version =\", sys.version)"
   ]
  },
  {
   "cell_type": "code",
   "execution_count": 3,
   "metadata": {},
   "outputs": [
    {
     "name": "stdout",
     "output_type": "stream",
     "text": [
      "Today: 2022-06-27 12:18:18.804012\n"
     ]
    }
   ],
   "source": [
    "print(\"Today:\", datetime.datetime.now())"
   ]
  },
  {
   "cell_type": "code",
   "execution_count": 4,
   "metadata": {},
   "outputs": [
    {
     "name": "stdout",
     "output_type": "stream",
     "text": [
      "This notebooks was made using Azure ML version 1.41\n",
      "You are using Azure ML = 1.41.0\n"
     ]
    }
   ],
   "source": [
    "print(\"This notebooks was made using Azure ML version 1.41\")\n",
    "print(\"You are using Azure ML =\", azureml.core.VERSION)"
   ]
  },
  {
   "cell_type": "code",
   "execution_count": 5,
   "metadata": {},
   "outputs": [
    {
     "name": "stdout",
     "output_type": "stream",
     "text": [
      "Your local environment:\n"
     ]
    },
    {
     "data": {
      "text/plain": [
       "{'Platform': 'Linux',\n",
       " 'Platform-release': '5.4.0-1077-azure',\n",
       " 'Platform-version': '#80~18.04.1-Ubuntu SMP Wed Apr 13 02:07:09 UTC 2022',\n",
       " 'Architecture': 'x86_64',\n",
       " 'Hostname': 'standardd13',\n",
       " 'IP-address': '127.0.0.1',\n",
       " 'MAC-address': '60:45:bd:90:9b:99',\n",
       " 'Processor': 'x86_64',\n",
       " 'RAM': '55 Gb'}"
      ]
     },
     "execution_count": 5,
     "metadata": {},
     "output_type": "execute_result"
    }
   ],
   "source": [
    "# Your local environment\n",
    "import platform\n",
    "import socket\n",
    "import re\n",
    "import uuid\n",
    "import json\n",
    "import psutil\n",
    "import logging\n",
    "\n",
    "\n",
    "def getSystemInfo():\n",
    "    try:\n",
    "        info = {}\n",
    "        info['Platform'] = platform.system()\n",
    "        info['Platform-release'] = platform.release()\n",
    "        info['Platform-version'] = platform.version()\n",
    "        info['Architecture'] = platform.machine()\n",
    "        info['Hostname'] = socket.gethostname()\n",
    "        info['IP-address'] = socket.gethostbyname(socket.gethostname())\n",
    "        info['MAC-address'] = ':'.join(\n",
    "            re.findall('..', '%012x' % uuid.getnode()))\n",
    "        info['Processor'] = platform.processor()\n",
    "        info['RAM'] = str(round(psutil.virtual_memory().total /\n",
    "                                (1024.0**3))) + \" Gb\"\n",
    "        return json.dumps(info)\n",
    "\n",
    "    except Exception as e:\n",
    "        logging.exception(e)\n",
    "\n",
    "\n",
    "print(\"Your local environment:\")\n",
    "json.loads(getSystemInfo())"
   ]
  },
  {
   "cell_type": "code",
   "execution_count": 6,
   "metadata": {},
   "outputs": [],
   "source": [
    "def createdir(MYDIR):\n",
    "\n",
    "    # Create directory\n",
    "    if not os.path.exists(MYDIR):  # Only if dir not exist\n",
    "        print(\"Dir:\", MYDIR, \"does not exist!\")\n",
    "        print(\"So let's create dir:\", MYDIR)\n",
    "        os.mkdir(MYDIR)\n",
    "        print(\"Done!\")\n",
    "\n",
    "    else:\n",
    "        print(\"Dir:\", MYDIR, \"exist. So let's use it!\")"
   ]
  },
  {
   "cell_type": "code",
   "execution_count": 7,
   "metadata": {},
   "outputs": [],
   "source": [
    "def listfiles(MYDIR):\n",
    "\n",
    "    # List files from a directory\n",
    "    nb = 1\n",
    "    print(\"Files in directory:\", MYDIR, \"\\n\")\n",
    "    for file in os.scandir(MYDIR):\n",
    "        print(nb, '\\t', datetime.datetime.fromtimestamp(file.stat().st_atime),\n",
    "              '\\t', file.name, humanize.naturalsize(file.stat().st_size))\n",
    "        nb += 1"
   ]
  },
  {
   "cell_type": "markdown",
   "metadata": {},
   "source": [
    "## 1. Workspace setup\n",
    "In order to train and deploy models in Azure ML, you will first need to set up a workspace.\n",
    "\n",
    "An [Azure ML Workspace](https://docs.microsoft.com/en-us/azure/machine-learning/concept-azure-machine-learning-architecture#workspace) is an Azure resource that organizes and coordinates the actions of many other Azure resources to assist in executing and sharing machine learning workflows. In particular, an Azure ML Workspace coordinates storage, databases, and compute resources providing added functionality for machine learning experimentation, deployment, inference, and the monitoring of deployed models.\n",
    "\n",
    "Create an Azure ML Workspace within your Azure subscription or load an existing workspace."
   ]
  },
  {
   "cell_type": "code",
   "execution_count": 8,
   "metadata": {},
   "outputs": [],
   "source": [
    "your_azure_id = \"tobereplaced\"\n",
    "your_azureml_workspace_resourcegroup = \"tobereplaced\"\n",
    "your_azurelml_workspace = \"tobereplaced\""
   ]
  },
  {
   "cell_type": "code",
   "execution_count": 9,
   "metadata": {},
   "outputs": [],
   "source": [
    "subscription_id = os.environ.get(\"SUBSCRIPTION_ID\", your_azure_id)\n",
    "resource_group = os.environ.get(\"RESOURCE_GROUP\",\n",
    "                                your_azureml_workspace_resourcegroup)\n",
    "workspace_name = os.environ.get(\"WORKSPACE_NAME\", your_azurelml_workspace)"
   ]
  },
  {
   "cell_type": "code",
   "execution_count": 10,
   "metadata": {},
   "outputs": [
    {
     "name": "stdout",
     "output_type": "stream",
     "text": [
      "[OK] Workspace configuration saved.\n"
     ]
    }
   ],
   "source": [
    "from azureml.core import Workspace\n",
    "\n",
    "try:\n",
    "    ws = Workspace(subscription_id=subscription_id,\n",
    "                   resource_group=resource_group,\n",
    "                   workspace_name=workspace_name)\n",
    "\n",
    "    ws.write_config()\n",
    "    print(\"[OK] Workspace configuration saved.\")\n",
    "\n",
    "except:\n",
    "    print(\"[Error] Workspace not found!\")"
   ]
  },
  {
   "cell_type": "code",
   "execution_count": 11,
   "metadata": {},
   "outputs": [
    {
     "name": "stdout",
     "output_type": "stream",
     "text": [
      "Loading Azure ML workspace config...\n",
      "\n",
      "[OK] Workspace is available:\n",
      "Azure ML workspace: azuremlvision\n",
      "Azure ML resource group: azuremlvision-rg\n"
     ]
    }
   ],
   "source": [
    "try:\n",
    "    print(\"Loading Azure ML workspace config...\")\n",
    "    ws = Workspace.from_config()\n",
    "    print(\"\\n[OK] Workspace is available:\")\n",
    "    print(\"Azure ML workspace:\", ws.name)\n",
    "    print(\"Azure ML resource group:\", ws.resource_group)\n",
    "\n",
    "except:\n",
    "    print(\"[Error] Cannot load configuration\")"
   ]
  },
  {
   "cell_type": "code",
   "execution_count": 12,
   "metadata": {},
   "outputs": [],
   "source": [
    "#ws.get_details()"
   ]
  },
  {
   "cell_type": "markdown",
   "metadata": {},
   "source": [
    "## 2. Azure ML GPU Compute target setup\n",
    "You will need to provide a [Compute Target](https://docs.microsoft.com/en-us/azure/machine-learning/concept-azure-machine-learning-architecture#computes) that will be used for your AutoML model training. AutoML models for image tasks require [GPU SKUs](https://docs.microsoft.com/en-us/azure/virtual-machines/sizes-gpu) such as the ones from the NC, NCv2, NCv3, ND, NDv2 and NCasT4 series. We recommend using the NCsv3-series (with v100 GPUs) for faster training. Using a compute target with a multi-GPU VM SKU will leverage the multiple GPUs to speed up training. Additionally, setting up a compute target with multiple nodes will allow for faster model training by leveraging parallelism, when tuning hyperparameters for your model."
   ]
  },
  {
   "cell_type": "code",
   "execution_count": 13,
   "metadata": {},
   "outputs": [
    {
     "name": "stdout",
     "output_type": "stream",
     "text": [
      "2022-06-27 12:19:00.082114 Creating a new compute target...\n",
      "InProgress..\n",
      "SucceededProvisioning operation finished, operation \"Succeeded\"\n",
      "Succeeded\n",
      "AmlCompute wait for completion finished\n",
      "\n",
      "Minimum number of nodes requested have been provisioned\n",
      "\n",
      "Done in: 0:01:04.448220\n"
     ]
    }
   ],
   "source": [
    "from azureml.core.compute import AmlCompute, ComputeTarget\n",
    "\n",
    "cluster_name = \"AutoML-GPU\"\n",
    "\n",
    "t1 = datetime.datetime.now()\n",
    "\n",
    "try:\n",
    "    compute_target = ws.compute_targets[cluster_name]\n",
    "    print(t1, \"Found existing compute target.\")\n",
    "\n",
    "except KeyError:\n",
    "    print(t1, \"Creating a new compute target...\")\n",
    "    compute_config = AmlCompute.provisioning_configuration(\n",
    "        vm_size=\"Standard_NC6\",\n",
    "        idle_seconds_before_scaledown=1800,\n",
    "        min_nodes=0,\n",
    "        max_nodes=4,\n",
    "    )\n",
    "    compute_target = ComputeTarget.create(ws, cluster_name, compute_config)\n",
    "\n",
    "compute_target.wait_for_completion(\n",
    "    show_output=True, min_node_count=None, timeout_in_minutes=20\n",
    ")\n",
    "\n",
    "print()\n",
    "print(\"Done in:\", datetime.datetime.now() - t1)"
   ]
  },
  {
   "cell_type": "code",
   "execution_count": 14,
   "metadata": {},
   "outputs": [
    {
     "name": "stdout",
     "output_type": "stream",
     "text": [
      "Azure ML GPU compute cluster is available: AutoML-GPU\n"
     ]
    }
   ],
   "source": [
    "print(\"Azure ML GPU compute cluster is available:\", compute_target.name)"
   ]
  },
  {
   "cell_type": "markdown",
   "metadata": {},
   "source": [
    "## 3. Azure ML Experiment Setup\n",
    "Create an [Experiment](https://docs.microsoft.com/en-us/azure/machine-learning/concept-azure-machine-learning-architecture#experiments) in your workspace to track your model training runs"
   ]
  },
  {
   "cell_type": "code",
   "execution_count": 15,
   "metadata": {},
   "outputs": [],
   "source": [
    "from azureml.core import Experiment\n",
    "\n",
    "experiment_name = \"AutoML-InstanceSegmentation-MetalScratchProject\"\n",
    "experiment = Experiment(ws, name=experiment_name)"
   ]
  },
  {
   "cell_type": "code",
   "execution_count": 16,
   "metadata": {},
   "outputs": [
    {
     "name": "stdout",
     "output_type": "stream",
     "text": [
      "Results will be available in this Azure ML experiment: AutoML-InstanceSegmentation-MetalScratchProject\n"
     ]
    },
    {
     "data": {
      "text/html": [
       "<table style=\"width:100%\"><tr><th>Name</th><th>Workspace</th><th>Report Page</th><th>Docs Page</th></tr><tr><td>AutoML-InstanceSegmentation-MetalScratchProject</td><td>azuremlvision</td><td><a href=\"https://ml.azure.com/experiments/id/2bc3b7dd-021d-40cb-8bcf-e5d572049f78?wsid=/subscriptions/70b8f39e-8863-49f7-b6ba-34a80799550c/resourcegroups/azuremlvision-rg/workspaces/azuremlvision&amp;tid=72f988bf-86f1-41af-91ab-2d7cd011db47\" target=\"_blank\" rel=\"noopener\">Link to Azure Machine Learning studio</a></td><td><a href=\"https://docs.microsoft.com/en-us/python/api/azureml-core/azureml.core.experiment.Experiment?view=azure-ml-py\" target=\"_blank\" rel=\"noopener\">Link to Documentation</a></td></tr></table>"
      ],
      "text/plain": [
       "Experiment(Name: AutoML-InstanceSegmentation-MetalScratchProject,\n",
       "Workspace: azuremlvision)"
      ]
     },
     "execution_count": 16,
     "metadata": {},
     "output_type": "execute_result"
    }
   ],
   "source": [
    "print(\"Results will be available in this Azure ML experiment:\",\n",
    "      experiment_name)\n",
    "\n",
    "experiment"
   ]
  },
  {
   "cell_type": "markdown",
   "metadata": {},
   "source": [
    "## 4. Dataset with input Training Data\n",
    "\n",
    "In order to generate models for computer vision, you will need to bring in labeled image data as input for model training in the form of an [AzureML Tabular Dataset](https://docs.microsoft.com/en-us/python/api/azureml-core/azureml.data.tabulardataset). You can either use a dataset that you have exported from a [Data Labeling](https://docs.microsoft.com/en-us/azure/machine-learning/how-to-label-data) project, or create a new Tabular Dataset with your labeled training data."
   ]
  },
  {
   "cell_type": "markdown",
   "metadata": {},
   "source": [
    "We need to label the scratches from the images. You can use Azure Data Labelling. Images should be stored into an Azure Storage Account and then you can create a data labelling instance segmentation project to label the polygons from the scratches you want to detect.\n",
    "\n",
    "Initial images are available here: https://github.com/retkowsky/CustomVision_Datasets/blob/master/scratch_images.zip"
   ]
  },
  {
   "cell_type": "code",
   "execution_count": 17,
   "metadata": {},
   "outputs": [],
   "source": [
    "from azureml.core import Workspace, Dataset\n",
    "import azureml.contrib.dataset\n",
    "\n",
    "# Name of your labelled dataset\n",
    "fulldataset = Dataset.get_by_name(ws, name='metal_20220623_115437')\n",
    "df = fulldataset.to_pandas_dataframe()  # Convert it to a pandas dataframe"
   ]
  },
  {
   "cell_type": "code",
   "execution_count": 18,
   "metadata": {},
   "outputs": [
    {
     "data": {
      "text/plain": [
       "(24, 7)"
      ]
     },
     "execution_count": 18,
     "metadata": {},
     "output_type": "execute_result"
    }
   ],
   "source": [
    "df.shape"
   ]
  },
  {
   "cell_type": "markdown",
   "metadata": {},
   "source": [
    "### This is the labelled dataset for an instance segmentation project"
   ]
  },
  {
   "cell_type": "code",
   "execution_count": 21,
   "metadata": {},
   "outputs": [
    {
     "data": {
      "text/html": [
       "<div>\n",
       "<style scoped>\n",
       "    .dataframe tbody tr th:only-of-type {\n",
       "        vertical-align: middle;\n",
       "    }\n",
       "\n",
       "    .dataframe tbody tr th {\n",
       "        vertical-align: top;\n",
       "    }\n",
       "\n",
       "    .dataframe thead th {\n",
       "        text-align: right;\n",
       "    }\n",
       "</style>\n",
       "<table border=\"1\" class=\"dataframe\">\n",
       "  <thead>\n",
       "    <tr style=\"text-align: right;\">\n",
       "      <th></th>\n",
       "      <th>image_url</th>\n",
       "      <th>label</th>\n",
       "      <th>label_confidence</th>\n",
       "      <th>labeler</th>\n",
       "      <th>labeling_time_in_seconds</th>\n",
       "      <th>image_height</th>\n",
       "      <th>image_width</th>\n",
       "    </tr>\n",
       "  </thead>\n",
       "  <tbody>\n",
       "    <tr>\n",
       "      <th>0</th>\n",
       "      <td>metal/metal (24).png</td>\n",
       "      <td>[{'label': 'scratch', 'isCrowd': False, 'polyg...</td>\n",
       "      <td>[1.0, 1.0]</td>\n",
       "      <td>Serge Retkowsky</td>\n",
       "      <td>30.42</td>\n",
       "      <td>700</td>\n",
       "      <td>700</td>\n",
       "    </tr>\n",
       "    <tr>\n",
       "      <th>1</th>\n",
       "      <td>metal/metal (20).png</td>\n",
       "      <td>[{'label': 'scratch', 'isCrowd': False, 'polyg...</td>\n",
       "      <td>[1.0]</td>\n",
       "      <td>Serge Retkowsky</td>\n",
       "      <td>26.60</td>\n",
       "      <td>700</td>\n",
       "      <td>700</td>\n",
       "    </tr>\n",
       "    <tr>\n",
       "      <th>2</th>\n",
       "      <td>metal/metal (10).png</td>\n",
       "      <td>[{'label': 'scratch', 'isCrowd': False, 'polyg...</td>\n",
       "      <td>[1.0]</td>\n",
       "      <td>Serge Retkowsky</td>\n",
       "      <td>18.67</td>\n",
       "      <td>700</td>\n",
       "      <td>700</td>\n",
       "    </tr>\n",
       "    <tr>\n",
       "      <th>3</th>\n",
       "      <td>metal/metal (18).png</td>\n",
       "      <td>[{'label': 'scratch', 'isCrowd': False, 'polyg...</td>\n",
       "      <td>[1.0, 1.0, 1.0]</td>\n",
       "      <td>Serge Retkowsky</td>\n",
       "      <td>22.20</td>\n",
       "      <td>700</td>\n",
       "      <td>700</td>\n",
       "    </tr>\n",
       "    <tr>\n",
       "      <th>4</th>\n",
       "      <td>metal/metal (8).png</td>\n",
       "      <td>[{'label': 'scratch', 'isCrowd': False, 'polyg...</td>\n",
       "      <td>[1.0]</td>\n",
       "      <td>Serge Retkowsky</td>\n",
       "      <td>8.04</td>\n",
       "      <td>700</td>\n",
       "      <td>700</td>\n",
       "    </tr>\n",
       "    <tr>\n",
       "      <th>5</th>\n",
       "      <td>metal/metal (13).png</td>\n",
       "      <td>[{'label': 'scratch', 'isCrowd': False, 'polyg...</td>\n",
       "      <td>[1.0, 1.0]</td>\n",
       "      <td>Serge Retkowsky</td>\n",
       "      <td>10.63</td>\n",
       "      <td>700</td>\n",
       "      <td>700</td>\n",
       "    </tr>\n",
       "    <tr>\n",
       "      <th>6</th>\n",
       "      <td>metal/metal (22).png</td>\n",
       "      <td>[{'label': 'scratch', 'isCrowd': False, 'polyg...</td>\n",
       "      <td>[1.0]</td>\n",
       "      <td>Serge Retkowsky</td>\n",
       "      <td>9.43</td>\n",
       "      <td>700</td>\n",
       "      <td>700</td>\n",
       "    </tr>\n",
       "    <tr>\n",
       "      <th>7</th>\n",
       "      <td>metal/metal (9).png</td>\n",
       "      <td>[{'label': 'scratch', 'isCrowd': False, 'polyg...</td>\n",
       "      <td>[1.0]</td>\n",
       "      <td>Serge Retkowsky</td>\n",
       "      <td>11.65</td>\n",
       "      <td>700</td>\n",
       "      <td>700</td>\n",
       "    </tr>\n",
       "    <tr>\n",
       "      <th>8</th>\n",
       "      <td>metal/metal (2).png</td>\n",
       "      <td>[{'label': 'scratch', 'isCrowd': False, 'polyg...</td>\n",
       "      <td>[1.0, 1.0]</td>\n",
       "      <td>Serge Retkowsky</td>\n",
       "      <td>16.28</td>\n",
       "      <td>700</td>\n",
       "      <td>700</td>\n",
       "    </tr>\n",
       "    <tr>\n",
       "      <th>9</th>\n",
       "      <td>metal/metal (11).png</td>\n",
       "      <td>[{'label': 'scratch', 'isCrowd': False, 'polyg...</td>\n",
       "      <td>[1.0, 1.0]</td>\n",
       "      <td>Serge Retkowsky</td>\n",
       "      <td>16.60</td>\n",
       "      <td>700</td>\n",
       "      <td>700</td>\n",
       "    </tr>\n",
       "  </tbody>\n",
       "</table>\n",
       "</div>"
      ],
      "text/plain": [
       "              image_url                                              label  \\\n",
       "0  metal/metal (24).png  [{'label': 'scratch', 'isCrowd': False, 'polyg...   \n",
       "1  metal/metal (20).png  [{'label': 'scratch', 'isCrowd': False, 'polyg...   \n",
       "2  metal/metal (10).png  [{'label': 'scratch', 'isCrowd': False, 'polyg...   \n",
       "3  metal/metal (18).png  [{'label': 'scratch', 'isCrowd': False, 'polyg...   \n",
       "4   metal/metal (8).png  [{'label': 'scratch', 'isCrowd': False, 'polyg...   \n",
       "5  metal/metal (13).png  [{'label': 'scratch', 'isCrowd': False, 'polyg...   \n",
       "6  metal/metal (22).png  [{'label': 'scratch', 'isCrowd': False, 'polyg...   \n",
       "7   metal/metal (9).png  [{'label': 'scratch', 'isCrowd': False, 'polyg...   \n",
       "8   metal/metal (2).png  [{'label': 'scratch', 'isCrowd': False, 'polyg...   \n",
       "9  metal/metal (11).png  [{'label': 'scratch', 'isCrowd': False, 'polyg...   \n",
       "\n",
       "  label_confidence          labeler  labeling_time_in_seconds  image_height  \\\n",
       "0       [1.0, 1.0]  Serge Retkowsky                     30.42           700   \n",
       "1            [1.0]  Serge Retkowsky                     26.60           700   \n",
       "2            [1.0]  Serge Retkowsky                     18.67           700   \n",
       "3  [1.0, 1.0, 1.0]  Serge Retkowsky                     22.20           700   \n",
       "4            [1.0]  Serge Retkowsky                      8.04           700   \n",
       "5       [1.0, 1.0]  Serge Retkowsky                     10.63           700   \n",
       "6            [1.0]  Serge Retkowsky                      9.43           700   \n",
       "7            [1.0]  Serge Retkowsky                     11.65           700   \n",
       "8       [1.0, 1.0]  Serge Retkowsky                     16.28           700   \n",
       "9       [1.0, 1.0]  Serge Retkowsky                     16.60           700   \n",
       "\n",
       "   image_width  \n",
       "0          700  \n",
       "1          700  \n",
       "2          700  \n",
       "3          700  \n",
       "4          700  \n",
       "5          700  \n",
       "6          700  \n",
       "7          700  \n",
       "8          700  \n",
       "9          700  "
      ]
     },
     "execution_count": 21,
     "metadata": {},
     "output_type": "execute_result"
    }
   ],
   "source": [
    "df.head(10)"
   ]
  },
  {
   "cell_type": "code",
   "execution_count": 22,
   "metadata": {},
   "outputs": [
    {
     "data": {
      "text/html": [
       "<div>\n",
       "<style scoped>\n",
       "    .dataframe tbody tr th:only-of-type {\n",
       "        vertical-align: middle;\n",
       "    }\n",
       "\n",
       "    .dataframe tbody tr th {\n",
       "        vertical-align: top;\n",
       "    }\n",
       "\n",
       "    .dataframe thead th {\n",
       "        text-align: right;\n",
       "    }\n",
       "</style>\n",
       "<table border=\"1\" class=\"dataframe\">\n",
       "  <thead>\n",
       "    <tr style=\"text-align: right;\">\n",
       "      <th></th>\n",
       "      <th>labeling_time_in_seconds</th>\n",
       "      <th>image_height</th>\n",
       "      <th>image_width</th>\n",
       "    </tr>\n",
       "  </thead>\n",
       "  <tbody>\n",
       "    <tr>\n",
       "      <th>count</th>\n",
       "      <td>24.000000</td>\n",
       "      <td>24.0</td>\n",
       "      <td>24.0</td>\n",
       "    </tr>\n",
       "    <tr>\n",
       "      <th>mean</th>\n",
       "      <td>13.594167</td>\n",
       "      <td>700.0</td>\n",
       "      <td>700.0</td>\n",
       "    </tr>\n",
       "    <tr>\n",
       "      <th>std</th>\n",
       "      <td>6.424904</td>\n",
       "      <td>0.0</td>\n",
       "      <td>0.0</td>\n",
       "    </tr>\n",
       "    <tr>\n",
       "      <th>min</th>\n",
       "      <td>6.420000</td>\n",
       "      <td>700.0</td>\n",
       "      <td>700.0</td>\n",
       "    </tr>\n",
       "    <tr>\n",
       "      <th>25%</th>\n",
       "      <td>8.190000</td>\n",
       "      <td>700.0</td>\n",
       "      <td>700.0</td>\n",
       "    </tr>\n",
       "    <tr>\n",
       "      <th>50%</th>\n",
       "      <td>11.620000</td>\n",
       "      <td>700.0</td>\n",
       "      <td>700.0</td>\n",
       "    </tr>\n",
       "    <tr>\n",
       "      <th>75%</th>\n",
       "      <td>16.360000</td>\n",
       "      <td>700.0</td>\n",
       "      <td>700.0</td>\n",
       "    </tr>\n",
       "    <tr>\n",
       "      <th>max</th>\n",
       "      <td>30.420000</td>\n",
       "      <td>700.0</td>\n",
       "      <td>700.0</td>\n",
       "    </tr>\n",
       "  </tbody>\n",
       "</table>\n",
       "</div>"
      ],
      "text/plain": [
       "       labeling_time_in_seconds  image_height  image_width\n",
       "count                 24.000000          24.0         24.0\n",
       "mean                  13.594167         700.0        700.0\n",
       "std                    6.424904           0.0          0.0\n",
       "min                    6.420000         700.0        700.0\n",
       "25%                    8.190000         700.0        700.0\n",
       "50%                   11.620000         700.0        700.0\n",
       "75%                   16.360000         700.0        700.0\n",
       "max                   30.420000         700.0        700.0"
      ]
     },
     "execution_count": 22,
     "metadata": {},
     "output_type": "execute_result"
    }
   ],
   "source": [
    "df.describe()"
   ]
  },
  {
   "cell_type": "markdown",
   "metadata": {},
   "source": [
    "## 5. Configuring your AutoML run for image tasks\n",
    "AutoML allows you to easily train models for Image Classification, Object Detection & Instance Segmentation on your image data. You can control the model algorithm to be used, specify hyperparameter values for your model as well as perform a sweep across the hyperparameter space to generate an optimal model. Parameters for configuring your AutoML Image run are specified using the `AutoMLImageConfig` - please refer to the [documentation](https://docs.microsoft.com/en-us/azure/machine-learning/how-to-auto-train-image-models#configure-your-experiment-settings) for the details on the parameters that can be used and their values."
   ]
  },
  {
   "cell_type": "markdown",
   "metadata": {},
   "source": [
    "### Using default hyperparameter values for the specified algorithm\n",
    "Before doing a large sweep to search for the optimal models and hyperparameters, we recommend trying the default values for a given model to get a first baseline. Next, you can explore multiple hyperparameters for the same model before sweeping over multiple models and their parameters. This allows an iterative approach, as with multiple models and multiple hyperparameters for each (as we showcase in the next section), the search space grows exponentially, and  you need more iterations to find optimal configurations.\n",
    "\n",
    "If you wish to use the default hyperparameter values for a given algorithm (say `maskrcnn`), you can specify the config for your AutoML Image runs as follows:"
   ]
  },
  {
   "cell_type": "markdown",
   "metadata": {},
   "source": [
    "Supported Algorithms https://docs.microsoft.com/en-us/azure/machine-learning/how-to-auto-train-image-models#supported-model-algorithms"
   ]
  },
  {
   "cell_type": "markdown",
   "metadata": {},
   "source": [
    "### Let's choose an instance segmentation algorithm"
   ]
  },
  {
   "cell_type": "code",
   "execution_count": 23,
   "metadata": {},
   "outputs": [],
   "source": [
    "#CVALGO = \"maskrcnn_resnet18_fpn\"\n",
    "CVALGO = \"maskrcnn_resnet34_fpn\"\n",
    "#CVALGO = \"maskrcnn_resnet50_fpn\"\n",
    "#CVALGO = \"maskrcnn_resnet101_fpn\"\n",
    "#CVALGO = \"maskrcnn_resnet152_fpn\""
   ]
  },
  {
   "cell_type": "code",
   "execution_count": 24,
   "metadata": {},
   "outputs": [
    {
     "name": "stdout",
     "output_type": "stream",
     "text": [
      "Starting to build an instance segmentation model using: maskrcnn_resnet34_fpn\n"
     ]
    }
   ],
   "source": [
    "print(\"Starting to build an instance segmentation model using:\", CVALGO)"
   ]
  },
  {
   "cell_type": "code",
   "execution_count": 25,
   "metadata": {},
   "outputs": [],
   "source": [
    "from azureml.automl.core.shared.constants import ImageTask\n",
    "from azureml.train.automl import AutoMLImageConfig\n",
    "from azureml.train.hyperdrive import GridParameterSampling, choice"
   ]
  },
  {
   "cell_type": "code",
   "execution_count": 28,
   "metadata": {},
   "outputs": [],
   "source": [
    "# This is an instance segmentation task\n",
    "\n",
    "automl_config = AutoMLImageConfig(\n",
    "    task=ImageTask.IMAGE_INSTANCE_SEGMENTATION,\n",
    "    compute_target=compute_target,  # Azure ML GPU cluster to use\n",
    "    training_data=fulldataset,  # images\n",
    "    # validation_data = validation_dataset, # by default 20% is the for the validation or you can specify a val dataset\n",
    "    experiment_timeout_hours=0.5,  # Timeout in hours\n",
    "    hyperparameter_sampling=GridParameterSampling(\n",
    "        {\"model_name\": choice(CVALGO)}),\n",
    "    iterations=1,  # 1 is for the default hyperparameter values\n",
    ")"
   ]
  },
  {
   "cell_type": "markdown",
   "metadata": {},
   "source": [
    "## 6. Submitting an AutoML run for Computer Vision tasks\n",
    "Once you've created the config settings for your run, you can submit an AutoML run using the config in order to train a vision model using your training dataset."
   ]
  },
  {
   "cell_type": "code",
   "execution_count": 29,
   "metadata": {},
   "outputs": [
    {
     "name": "stdout",
     "output_type": "stream",
     "text": [
      "Running AutoML for Images...\n",
      "\n",
      "Submitting remote run.\n"
     ]
    },
    {
     "data": {
      "text/html": [
       "<table style=\"width:100%\"><tr><th>Experiment</th><th>Id</th><th>Type</th><th>Status</th><th>Details Page</th><th>Docs Page</th></tr><tr><td>AutoML-InstanceSegmentation-MetalScratchProject</td><td>AutoML_45460856-9191-40e7-b2ed-2f8f863aa599</td><td>automl</td><td>NotStarted</td><td><a href=\"https://ml.azure.com/runs/AutoML_45460856-9191-40e7-b2ed-2f8f863aa599?wsid=/subscriptions/70b8f39e-8863-49f7-b6ba-34a80799550c/resourcegroups/azuremlvision-rg/workspaces/azuremlvision&amp;tid=72f988bf-86f1-41af-91ab-2d7cd011db47\" target=\"_blank\" rel=\"noopener\">Link to Azure Machine Learning studio</a></td><td><a href=\"https://docs.microsoft.com/en-us/python/api/overview/azure/ml/intro?view=azure-ml-py\" target=\"_blank\" rel=\"noopener\">Link to Documentation</a></td></tr></table>"
      ],
      "text/plain": [
       "<IPython.core.display.HTML object>"
      ]
     },
     "metadata": {},
     "output_type": "display_data"
    },
    {
     "name": "stdout",
     "output_type": "stream",
     "text": [
      "\n",
      "Done in: 0:11:37.159085\n"
     ]
    }
   ],
   "source": [
    "t1 = datetime.datetime.now()\n",
    "print(\"Running AutoML for Images...\\n\")\n",
    "\n",
    "automl_image_run = experiment.submit(automl_config)\n",
    "automl_image_run.wait_for_completion(wait_post_processing=True)\n",
    "\n",
    "print(\"\\nDone in:\", datetime.datetime.now() - t1)"
   ]
  },
  {
   "cell_type": "markdown",
   "metadata": {},
   "source": [
    "> Model can be improved by adding more labelled images. "
   ]
  },
  {
   "cell_type": "markdown",
   "metadata": {},
   "source": [
    "## [Optional] Hyperparameter sweeping for your AutoML models for computer vision tasks\n",
    "\n",
    "When using AutoML for Images, you can perform a hyperparameter sweep over a defined parameter space to find the optimal model. In this example, we sweep over the hyperparameters for each algorithm, choosing from a range of values for learning_rate, optimizer, etc., to generate a model with the optimal 'accuracy'. If hyperparameter values are not specified, then default values are used for the specified algorithm.\n",
    "\n",
    "We use Random Sampling to pick samples from this parameter space and try a total of 10 iterations with these different samples, running 2 iterations at a time on our compute target, which has been previously set up using 4 nodes.  Please note that the more parameters the space has, the more iterations you need to find optimal models.\n",
    "\n",
    "We leverage the Bandit early termination policy which will terminate poor performing configs (those that are not within 20% slack of the best performing config), thus significantly saving compute resources.\n",
    "\n",
    "For more details on model and hyperparameter sweeping, please refer to the [documentation](https://docs.microsoft.com/en-us/azure/machine-learning/how-to-tune-hyperparameters)."
   ]
  },
  {
   "cell_type": "markdown",
   "metadata": {},
   "source": [
    "## 7. Model results"
   ]
  },
  {
   "cell_type": "code",
   "execution_count": 30,
   "metadata": {},
   "outputs": [
    {
     "name": "stdout",
     "output_type": "stream",
     "text": [
      "Dir: model does not exist!\n",
      "So let's create dir: model\n",
      "Done!\n"
     ]
    }
   ],
   "source": [
    "MODEL_DIR = 'model'\n",
    "createdir(MODEL_DIR)"
   ]
  },
  {
   "cell_type": "code",
   "execution_count": 31,
   "metadata": {},
   "outputs": [
    {
     "data": {
      "text/plain": [
       "<bound method Run.get_properties of Run(Experiment: AutoML-InstanceSegmentation-MetalScratchProject,\n",
       "Id: AutoML_45460856-9191-40e7-b2ed-2f8f863aa599,\n",
       "Type: automl,\n",
       "Status: Completed)>"
      ]
     },
     "execution_count": 31,
     "metadata": {},
     "output_type": "execute_result"
    }
   ],
   "source": [
    "automl_image_run.get_properties"
   ]
  },
  {
   "cell_type": "code",
   "execution_count": 32,
   "metadata": {},
   "outputs": [
    {
     "name": "stdout",
     "output_type": "stream",
     "text": [
      "CV best automl algorithm = maskrcnn_resnet34_fpn\n"
     ]
    }
   ],
   "source": [
    "best_child_run = automl_image_run.get_best_child()\n",
    "bestautoml_algorithm = best_child_run.properties['run_algorithm']\n",
    "print(\"CV best automl algorithm =\", bestautoml_algorithm)"
   ]
  },
  {
   "cell_type": "code",
   "execution_count": 33,
   "metadata": {},
   "outputs": [
    {
     "data": {
      "text/html": [
       "<div>\n",
       "<style scoped>\n",
       "    .dataframe tbody tr th:only-of-type {\n",
       "        vertical-align: middle;\n",
       "    }\n",
       "\n",
       "    .dataframe tbody tr th {\n",
       "        vertical-align: top;\n",
       "    }\n",
       "\n",
       "    .dataframe thead th {\n",
       "        text-align: right;\n",
       "    }\n",
       "</style>\n",
       "<table border=\"1\" class=\"dataframe\">\n",
       "  <thead>\n",
       "    <tr style=\"text-align: right;\">\n",
       "      <th></th>\n",
       "      <th>per_label_metrics</th>\n",
       "      <th>mean_average_precision</th>\n",
       "      <th>recall</th>\n",
       "      <th>precision</th>\n",
       "    </tr>\n",
       "  </thead>\n",
       "  <tbody>\n",
       "    <tr>\n",
       "      <th>0</th>\n",
       "      <td>{0: {'precision': -1.0, 'recall': -1.0, 'avera...</td>\n",
       "      <td>0.00000</td>\n",
       "      <td>0.00000</td>\n",
       "      <td>0.00000</td>\n",
       "    </tr>\n",
       "    <tr>\n",
       "      <th>1</th>\n",
       "      <td>{0: {'precision': -1.0, 'recall': -1.0, 'avera...</td>\n",
       "      <td>0.02222</td>\n",
       "      <td>0.11111</td>\n",
       "      <td>0.04167</td>\n",
       "    </tr>\n",
       "    <tr>\n",
       "      <th>2</th>\n",
       "      <td>{0: {'precision': -1.0, 'recall': -1.0, 'avera...</td>\n",
       "      <td>0.30556</td>\n",
       "      <td>0.33333</td>\n",
       "      <td>0.25000</td>\n",
       "    </tr>\n",
       "    <tr>\n",
       "      <th>3</th>\n",
       "      <td>{0: {'precision': -1.0, 'recall': -1.0, 'avera...</td>\n",
       "      <td>0.50638</td>\n",
       "      <td>0.88889</td>\n",
       "      <td>0.05128</td>\n",
       "    </tr>\n",
       "    <tr>\n",
       "      <th>4</th>\n",
       "      <td>{0: {'precision': -1.0, 'recall': -1.0, 'avera...</td>\n",
       "      <td>0.58889</td>\n",
       "      <td>0.66667</td>\n",
       "      <td>0.24000</td>\n",
       "    </tr>\n",
       "    <tr>\n",
       "      <th>5</th>\n",
       "      <td>{0: {'precision': -1.0, 'recall': -1.0, 'avera...</td>\n",
       "      <td>0.52381</td>\n",
       "      <td>0.55556</td>\n",
       "      <td>0.17857</td>\n",
       "    </tr>\n",
       "    <tr>\n",
       "      <th>6</th>\n",
       "      <td>{0: {'precision': -1.0, 'recall': -1.0, 'avera...</td>\n",
       "      <td>0.37778</td>\n",
       "      <td>0.44444</td>\n",
       "      <td>0.57143</td>\n",
       "    </tr>\n",
       "    <tr>\n",
       "      <th>7</th>\n",
       "      <td>{0: {'precision': -1.0, 'recall': -1.0, 'avera...</td>\n",
       "      <td>0.67521</td>\n",
       "      <td>0.77778</td>\n",
       "      <td>0.12069</td>\n",
       "    </tr>\n",
       "    <tr>\n",
       "      <th>8</th>\n",
       "      <td>{0: {'precision': -1.0, 'recall': -1.0, 'avera...</td>\n",
       "      <td>0.70370</td>\n",
       "      <td>0.77778</td>\n",
       "      <td>0.50000</td>\n",
       "    </tr>\n",
       "    <tr>\n",
       "      <th>9</th>\n",
       "      <td>{0: {'precision': -1.0, 'recall': -1.0, 'avera...</td>\n",
       "      <td>0.77518</td>\n",
       "      <td>0.88889</td>\n",
       "      <td>0.40000</td>\n",
       "    </tr>\n",
       "    <tr>\n",
       "      <th>10</th>\n",
       "      <td>{0: {'precision': -1.0, 'recall': -1.0, 'avera...</td>\n",
       "      <td>0.68519</td>\n",
       "      <td>0.77778</td>\n",
       "      <td>0.41176</td>\n",
       "    </tr>\n",
       "    <tr>\n",
       "      <th>11</th>\n",
       "      <td>{0: {'precision': -1.0, 'recall': -1.0, 'avera...</td>\n",
       "      <td>0.70960</td>\n",
       "      <td>0.77778</td>\n",
       "      <td>0.38889</td>\n",
       "    </tr>\n",
       "    <tr>\n",
       "      <th>12</th>\n",
       "      <td>{0: {'precision': -1.0, 'recall': -1.0, 'avera...</td>\n",
       "      <td>0.75101</td>\n",
       "      <td>0.88889</td>\n",
       "      <td>0.47059</td>\n",
       "    </tr>\n",
       "    <tr>\n",
       "      <th>13</th>\n",
       "      <td>{0: {'precision': -1.0, 'recall': -1.0, 'avera...</td>\n",
       "      <td>0.75589</td>\n",
       "      <td>0.88889</td>\n",
       "      <td>0.50000</td>\n",
       "    </tr>\n",
       "    <tr>\n",
       "      <th>14</th>\n",
       "      <td>{0: {'precision': -1.0, 'recall': -1.0, 'avera...</td>\n",
       "      <td>0.75589</td>\n",
       "      <td>0.88889</td>\n",
       "      <td>0.50000</td>\n",
       "    </tr>\n",
       "  </tbody>\n",
       "</table>\n",
       "</div>"
      ],
      "text/plain": [
       "                                    per_label_metrics  mean_average_precision  \\\n",
       "0   {0: {'precision': -1.0, 'recall': -1.0, 'avera...                 0.00000   \n",
       "1   {0: {'precision': -1.0, 'recall': -1.0, 'avera...                 0.02222   \n",
       "2   {0: {'precision': -1.0, 'recall': -1.0, 'avera...                 0.30556   \n",
       "3   {0: {'precision': -1.0, 'recall': -1.0, 'avera...                 0.50638   \n",
       "4   {0: {'precision': -1.0, 'recall': -1.0, 'avera...                 0.58889   \n",
       "5   {0: {'precision': -1.0, 'recall': -1.0, 'avera...                 0.52381   \n",
       "6   {0: {'precision': -1.0, 'recall': -1.0, 'avera...                 0.37778   \n",
       "7   {0: {'precision': -1.0, 'recall': -1.0, 'avera...                 0.67521   \n",
       "8   {0: {'precision': -1.0, 'recall': -1.0, 'avera...                 0.70370   \n",
       "9   {0: {'precision': -1.0, 'recall': -1.0, 'avera...                 0.77518   \n",
       "10  {0: {'precision': -1.0, 'recall': -1.0, 'avera...                 0.68519   \n",
       "11  {0: {'precision': -1.0, 'recall': -1.0, 'avera...                 0.70960   \n",
       "12  {0: {'precision': -1.0, 'recall': -1.0, 'avera...                 0.75101   \n",
       "13  {0: {'precision': -1.0, 'recall': -1.0, 'avera...                 0.75589   \n",
       "14  {0: {'precision': -1.0, 'recall': -1.0, 'avera...                 0.75589   \n",
       "\n",
       "     recall  precision  \n",
       "0   0.00000    0.00000  \n",
       "1   0.11111    0.04167  \n",
       "2   0.33333    0.25000  \n",
       "3   0.88889    0.05128  \n",
       "4   0.66667    0.24000  \n",
       "5   0.55556    0.17857  \n",
       "6   0.44444    0.57143  \n",
       "7   0.77778    0.12069  \n",
       "8   0.77778    0.50000  \n",
       "9   0.88889    0.40000  \n",
       "10  0.77778    0.41176  \n",
       "11  0.77778    0.38889  \n",
       "12  0.88889    0.47059  \n",
       "13  0.88889    0.50000  \n",
       "14  0.88889    0.50000  "
      ]
     },
     "execution_count": 33,
     "metadata": {},
     "output_type": "execute_result"
    }
   ],
   "source": [
    "allmetrics_df = pd.DataFrame(automl_image_run.get_metrics())\n",
    "allmetrics_df"
   ]
  },
  {
   "cell_type": "code",
   "execution_count": 57,
   "metadata": {},
   "outputs": [],
   "source": [
    "model_meanverageprecision = allmetrics_df['mean_average_precision'].values[allmetrics_df.shape[0] - 1]\n",
    "model_recall = allmetrics_df['recall'].values[allmetrics_df.shape[0] - 1]\n",
    "model_precision = allmetrics_df['precision'].values[allmetrics_df.shape[0] - 1]"
   ]
  },
  {
   "cell_type": "code",
   "execution_count": 35,
   "metadata": {},
   "outputs": [
    {
     "data": {
      "image/png": "[encoded data removed]",
      "text/plain": [
       "<Figure size 1080x576 with 1 Axes>"
      ]
     },
     "metadata": {
      "needs_background": "light"
     },
     "output_type": "display_data"
    }
   ],
   "source": [
    "import matplotlib.pyplot as plt\n",
    "%matplotlib inline\n",
    "\n",
    "plt.figure(figsize=(15, 8))\n",
    "plt.plot(allmetrics_df['mean_average_precision'], 'b-', lw=2, alpha=0.6)\n",
    "plt.xlabel('Iterations', fontsize=12)\n",
    "plt.ylabel('mean_average_precision', fontsize=12)\n",
    "plt.title('CV best automl algorithm - mean average precision: ' +\n",
    "          bestautoml_algorithm, fontsize=15)\n",
    "plt.grid(color='#DDDDDD', linewidth=0.8)\n",
    "plt.xticks(np.arange(0, 13, 1))\n",
    "\n",
    "plt.savefig(MODEL_DIR + '/' + bestautoml_algorithm + \\\n",
    "            '_bestautoml_meanaverageprecision.png')\n",
    "plt.show()"
   ]
  },
  {
   "cell_type": "code",
   "execution_count": 36,
   "metadata": {},
   "outputs": [
    {
     "data": {
      "image/png": "[encoded data removed]",
      "text/plain": [
       "<Figure size 1080x576 with 1 Axes>"
      ]
     },
     "metadata": {
      "needs_background": "light"
     },
     "output_type": "display_data"
    }
   ],
   "source": [
    "%matplotlib inline\n",
    "\n",
    "plt.figure(figsize=(15, 8))\n",
    "plt.plot(allmetrics_df['recall'], 'g-', lw=2, alpha=0.6)\n",
    "plt.xlabel('Iterations', fontsize=12)\n",
    "plt.ylabel('recall', fontsize=12)\n",
    "plt.title('CV best automl algorithm - recall: ' +\n",
    "          bestautoml_algorithm, fontsize=15)\n",
    "plt.grid(color='#DDDDDD', linewidth=0.8)\n",
    "plt.xticks(np.arange(0, 13, 1))\n",
    "\n",
    "plt.savefig(MODEL_DIR + '/' + bestautoml_algorithm + '_recall.png')\n",
    "plt.show()"
   ]
  },
  {
   "cell_type": "code",
   "execution_count": 37,
   "metadata": {},
   "outputs": [
    {
     "name": "stdout",
     "output_type": "stream",
     "text": [
      "Files in directory: model \n",
      "\n",
      "1 \t 2022-06-27 13:16:18.466302 \t maskrcnn_resnet34_fpn_bestautoml_meanaverageprecision.png 29.8 kB\n",
      "2 \t 2022-06-27 13:16:30.680385 \t maskrcnn_resnet34_fpn_recall.png 29.9 kB\n"
     ]
    }
   ],
   "source": [
    "listfiles(MODEL_DIR)"
   ]
  },
  {
   "cell_type": "markdown",
   "metadata": {},
   "source": [
    "## 8. Register the model from the AutoML run\n",
    "Once the run completes, we can register the model that was created from the best run (configuration that resulted in the best primary metric)"
   ]
  },
  {
   "cell_type": "code",
   "execution_count": 38,
   "metadata": {},
   "outputs": [
    {
     "data": {
      "text/html": [
       "<table style=\"width:100%\"><tr><th>Experiment</th><th>Id</th><th>Type</th><th>Status</th><th>Details Page</th><th>Docs Page</th></tr><tr><td>AutoML-InstanceSegmentation-MetalScratchProject</td><td>AutoML_45460856-9191-40e7-b2ed-2f8f863aa599_HD</td><td>hyperdrive</td><td>Completed</td><td><a href=\"https://ml.azure.com/runs/AutoML_45460856-9191-40e7-b2ed-2f8f863aa599_HD?wsid=/subscriptions/70b8f39e-8863-49f7-b6ba-34a80799550c/resourcegroups/azuremlvision-rg/workspaces/azuremlvision&amp;tid=72f988bf-86f1-41af-91ab-2d7cd011db47\" target=\"_blank\" rel=\"noopener\">Link to Azure Machine Learning studio</a></td><td><a href=\"https://docs.microsoft.com/en-us/python/api/azureml-core/azureml.core.run.Run?view=azure-ml-py\" target=\"_blank\" rel=\"noopener\">Link to Documentation</a></td></tr></table>"
      ],
      "text/plain": [
       "Run(Experiment: AutoML-InstanceSegmentation-MetalScratchProject,\n",
       "Id: AutoML_45460856-9191-40e7-b2ed-2f8f863aa599_HD,\n",
       "Type: hyperdrive,\n",
       "Status: Completed)"
      ]
     },
     "execution_count": 38,
     "metadata": {},
     "output_type": "execute_result"
    }
   ],
   "source": [
    "from azureml.core import Run\n",
    "hyperdrive_run = Run(experiment=experiment, run_id=automl_image_run.id + \"_HD\")\n",
    "hyperdrive_run"
   ]
  },
  {
   "cell_type": "code",
   "execution_count": 60,
   "metadata": {},
   "outputs": [],
   "source": [
    "model_desc = \"Instance Segmentation CV model \" + bestautoml_algorithm +\\\n",
    "    \" for detecting metal scratches\"\n",
    "\n",
    "model_tags = {\"Data\": \"Images\",\n",
    "              \"Context\": \"Metal Scratches Detection\",\n",
    "              \"Algorithm\": bestautoml_algorithm,\n",
    "              \"Task\": \"Instance Segmentation\",\n",
    "              \"MAP\" : model_meanverageprecision,\n",
    "              \"Precision\" : model_meanverageprecision,\n",
    "              \"Recall\" : model_meanverageprecision,\n",
    "              \"Framework\": \"Azure ML AutoML for Images\"}"
   ]
  },
  {
   "cell_type": "code",
   "execution_count": 67,
   "metadata": {},
   "outputs": [
    {
     "name": "stdout",
     "output_type": "stream",
     "text": [
      "Registering the model\n",
      "\n",
      "Done.\n"
     ]
    }
   ],
   "source": [
    "print(\"Registering the model\\n\")\n",
    "\n",
    "best_child_run = automl_image_run.get_best_child()\n",
    "model_name = best_child_run.properties[\"model_name\"]\n",
    "\n",
    "model = best_child_run.register_model(model_name=model_name,\n",
    "                                      # Model to register (PyTorch format)\n",
    "                                      model_path=\"outputs/model.pt\",\n",
    "                                      description=model_desc,\n",
    "                                      tags=model_tags)\n",
    "print(\"Done.\")"
   ]
  },
  {
   "cell_type": "code",
   "execution_count": 68,
   "metadata": {},
   "outputs": [
    {
     "data": {
      "text/plain": [
       "'AutoML4546085690:3'"
      ]
     },
     "execution_count": 68,
     "metadata": {},
     "output_type": "execute_result"
    }
   ],
   "source": [
    "model.id"
   ]
  },
  {
   "cell_type": "code",
   "execution_count": 69,
   "metadata": {},
   "outputs": [
    {
     "data": {
      "text/plain": [
       "3"
      ]
     },
     "execution_count": 69,
     "metadata": {},
     "output_type": "execute_result"
    }
   ],
   "source": [
    "model.version"
   ]
  },
  {
   "cell_type": "code",
   "execution_count": 70,
   "metadata": {},
   "outputs": [
    {
     "data": {
      "text/plain": [
       "'Instance Segmentation CV model maskrcnn_resnet34_fpn for detecting metal scratches'"
      ]
     },
     "execution_count": 70,
     "metadata": {},
     "output_type": "execute_result"
    }
   ],
   "source": [
    "model.description"
   ]
  },
  {
   "cell_type": "code",
   "execution_count": 71,
   "metadata": {},
   "outputs": [
    {
     "data": {
      "text/plain": [
       "{'Data': 'Images',\n",
       " 'Context': 'Metal Scratches Detection',\n",
       " 'Algorithm': 'maskrcnn_resnet34_fpn',\n",
       " 'Task': 'Instance Segmentation',\n",
       " 'MAP': '0.75589',\n",
       " 'Precision': '0.75589',\n",
       " 'Recall': '0.75589',\n",
       " 'Framework': 'Azure ML AutoML for Images'}"
      ]
     },
     "execution_count": 71,
     "metadata": {},
     "output_type": "execute_result"
    }
   ],
   "source": [
    "model.tags"
   ]
  },
  {
   "cell_type": "markdown",
   "metadata": {},
   "source": [
    "### Download artifacts"
   ]
  },
  {
   "cell_type": "code",
   "execution_count": 72,
   "metadata": {},
   "outputs": [],
   "source": [
    "# PyTorch model\n",
    "best_child_run.download_file(\"outputs/model.pt\",\n",
    "                             output_file_path=MODEL_DIR + \"/model.pt\")"
   ]
  },
  {
   "cell_type": "code",
   "execution_count": 73,
   "metadata": {},
   "outputs": [],
   "source": [
    "# Computer Vision Labels\n",
    "best_child_run.download_file(\"train_artifacts/labels.json\",\n",
    "                             output_file_path=MODEL_DIR + \"/labels.json\")"
   ]
  },
  {
   "cell_type": "code",
   "execution_count": 74,
   "metadata": {},
   "outputs": [
    {
     "name": "stdout",
     "output_type": "stream",
     "text": [
      "[\"--bg--\", \"scratch\"]\n"
     ]
    }
   ],
   "source": [
    "with open(os.path.join('model/labels.json'), 'r') as f:\n",
    "    print(f.read())"
   ]
  },
  {
   "cell_type": "code",
   "execution_count": 75,
   "metadata": {},
   "outputs": [],
   "source": [
    "# ONNX model (for local inference)\n",
    "best_child_run.download_file(\"train_artifacts/model.onnx\",\n",
    "                             output_file_path=MODEL_DIR + \"/model.onnx\")"
   ]
  },
  {
   "cell_type": "code",
   "execution_count": 76,
   "metadata": {},
   "outputs": [],
   "source": [
    "# Model metrics\n",
    "best_child_run.download_file(\"train_artifacts/per_label_metrics.json\",\n",
    "                             output_file_path=MODEL_DIR +\n",
    "                             \"/per_label_metrics.json\")"
   ]
  },
  {
   "cell_type": "code",
   "execution_count": 77,
   "metadata": {},
   "outputs": [
    {
     "name": "stdout",
     "output_type": "stream",
     "text": [
      "{\"--bg--\": {\"precision\": [-1.0, -1.0, -1.0, -1.0, -1.0, -1.0, -1.0, -1.0, -1.0, -1.0, -1.0, -1.0, -1.0, -1.0, -1.0], \"recall\": [-1.0, -1.0, -1.0, -1.0, -1.0, -1.0, -1.0, -1.0, -1.0, -1.0, -1.0, -1.0, -1.0, -1.0, -1.0], \"average_precision\": [-1.0, -1.0, -1.0, -1.0, -1.0, -1.0, -1.0, -1.0, -1.0, -1.0, -1.0, -1.0, -1.0, -1.0, -1.0]}, \"scratch\": {\"precision\": [-1.0, 0.04167, 0.25, 0.05128, 0.24, 0.17857, 0.57143, 0.12069, 0.5, 0.4, 0.41176, 0.38889, 0.47059, 0.5, 0.5], \"recall\": [0.0, 0.11111, 0.33333, 0.88889, 0.66667, 0.55556, 0.44444, 0.77778, 0.77778, 0.88889, 0.77778, 0.77778, 0.88889, 0.88889, 0.88889], \"average_precision\": [0.0, 0.02222, 0.30556, 0.50638, 0.58889, 0.52381, 0.37778, 0.67521, 0.7037, 0.77518, 0.68519, 0.7096, 0.75101, 0.75589, 0.75589]}}\n"
     ]
    }
   ],
   "source": [
    "with open(os.path.join('model/per_label_metrics.json'), 'r') as f:\n",
    "    print(f.read())"
   ]
  },
  {
   "cell_type": "code",
   "execution_count": 78,
   "metadata": {},
   "outputs": [],
   "source": [
    "# Training datasets\n",
    "best_child_run.download_file(\"train_artifacts/train_df.csv\",\n",
    "                             output_file_path=MODEL_DIR + \"/train_df.csv\")"
   ]
  },
  {
   "cell_type": "code",
   "execution_count": 79,
   "metadata": {},
   "outputs": [],
   "source": [
    "# Validation datasets\n",
    "best_child_run.download_file(\"train_artifacts/val_df.csv\",\n",
    "                             output_file_path=MODEL_DIR + \"/val_df.csv\")"
   ]
  },
  {
   "cell_type": "code",
   "execution_count": 80,
   "metadata": {},
   "outputs": [
    {
     "name": "stdout",
     "output_type": "stream",
     "text": [
      "Files in directory: model \n",
      "\n",
      "1 \t 2022-06-27 13:25:51.811091 \t labels.json 21 Bytes\n",
      "2 \t 2022-06-27 13:16:18.466302 \t maskrcnn_resnet34_fpn_bestautoml_meanaverageprecision.png 29.8 kB\n",
      "3 \t 2022-06-27 13:16:30.680385 \t maskrcnn_resnet34_fpn_recall.png 29.9 kB\n",
      "4 \t 2022-06-27 13:25:56.189611 \t model.onnx 164.3 MB\n",
      "5 \t 2022-06-27 13:25:51.487272 \t model.pt 327.3 MB\n",
      "6 \t 2022-06-27 13:25:56.539414 \t per_label_metrics.json 765 Bytes\n",
      "7 \t 2022-06-27 13:25:56.870227 \t train_df.csv 18.0 kB\n",
      "8 \t 2022-06-27 13:25:57.151067 \t val_df.csv 4.1 kB\n"
     ]
    }
   ],
   "source": [
    "listfiles(MODEL_DIR)"
   ]
  },
  {
   "cell_type": "markdown",
   "metadata": {},
   "source": [
    "## 9. Deploy model as a web service\n",
    "Once you have your trained model, you can deploy the model on Azure. You can deploy your trained model as a web service on Azure Container Instances ([ACI](https://docs.microsoft.com/en-us/azure/machine-learning/how-to-deploy-azure-container-instance)) or Azure Kubernetes Service ([AKS](https://docs.microsoft.com/en-us/azure/machine-learning/how-to-deploy-azure-kubernetes-service)). Please note that ACI only supports small models under 1 GB in size. For testing larger models or for the high-scale production stage, we recommend using AKS.\n",
    "In this tutorial, we will deploy the model as a web service in AKS."
   ]
  },
  {
   "cell_type": "markdown",
   "metadata": {},
   "source": [
    "### 9.1 You will need to first create an AKS compute cluster or use an existing AKS cluster.\n",
    "\n",
    "You can use either GPU or CPU VM SKUs for your deployment cluster"
   ]
  },
  {
   "cell_type": "code",
   "execution_count": 81,
   "metadata": {},
   "outputs": [
    {
     "name": "stdout",
     "output_type": "stream",
     "text": [
      "2022-06-27 13:25:57.315725 Creating or using AKS...\n",
      "\n",
      "Found existing AKS\n",
      "\n",
      "Done in: 0:00:00.112601\n"
     ]
    }
   ],
   "source": [
    "from azureml.core.compute import ComputeTarget, AksCompute\n",
    "from azureml.exceptions import ComputeTargetException\n",
    "\n",
    "aks_name = \"aks-cluster\"\n",
    "\n",
    "t1 = datetime.datetime.now()\n",
    "print(t1, \"Creating or using AKS...\\n\")\n",
    "\n",
    "try:\n",
    "    aks_target = ComputeTarget(workspace=ws, name=aks_name)\n",
    "    print(\"Found existing AKS\")\n",
    "\n",
    "except ComputeTargetException:\n",
    "    print(\"Creating a new compute target...\")\n",
    "    prov_config = AksCompute.provisioning_configuration(\n",
    "        vm_size=\"STANDARD_D3_V2\")\n",
    "    aks_target = ComputeTarget.create(\n",
    "        workspace=ws, name=aks_name, provisioning_configuration=prov_config\n",
    "    )\n",
    "    aks_target.wait_for_completion(show_output=True)\n",
    "\n",
    "print()\n",
    "print(\"Done in:\", datetime.datetime.now() - t1)"
   ]
  },
  {
   "cell_type": "markdown",
   "metadata": {},
   "source": [
    "Next, you will need to define the [inference configuration](https://docs.microsoft.com/en-us/azure/machine-learning/how-to-auto-train-image-models#update-inference-configuration), that describes how to set up the web-service containing your model. You can use the scoring script and the environment from the training run in your inference config.\n",
    "\n",
    "<b>Note:</b> To change the model's settings, open the downloaded scoring script and modify the model_settings variable <i>before</i> deploying the model."
   ]
  },
  {
   "cell_type": "code",
   "execution_count": 82,
   "metadata": {},
   "outputs": [],
   "source": [
    "from azureml.core.model import InferenceConfig\n",
    "\n",
    "best_child_run.download_file(\"outputs/scoring_file_v_1_0_0.py\",\n",
    "                             output_file_path=MODEL_DIR + \"/score.py\")\n",
    "\n",
    "environment = best_child_run.get_environment()\n",
    "inference_config = InferenceConfig(entry_script=\"model/score.py\",\n",
    "                                   environment=environment)"
   ]
  },
  {
   "cell_type": "code",
   "execution_count": 83,
   "metadata": {},
   "outputs": [
    {
     "name": "stdout",
     "output_type": "stream",
     "text": [
      "Files in directory: model \n",
      "\n",
      "1 \t 2022-06-27 13:25:51.811091 \t labels.json 21 Bytes\n",
      "2 \t 2022-06-27 13:16:18.466302 \t maskrcnn_resnet34_fpn_bestautoml_meanaverageprecision.png 29.8 kB\n",
      "3 \t 2022-06-27 13:16:30.680385 \t maskrcnn_resnet34_fpn_recall.png 29.9 kB\n",
      "4 \t 2022-06-27 13:25:56.189611 \t model.onnx 164.3 MB\n",
      "5 \t 2022-06-27 13:25:51.487272 \t model.pt 327.3 MB\n",
      "6 \t 2022-06-27 13:25:56.539414 \t per_label_metrics.json 765 Bytes\n",
      "7 \t 2022-06-27 13:25:57.725741 \t score.py 2.2 kB\n",
      "8 \t 2022-06-27 13:25:56.870227 \t train_df.csv 18.0 kB\n",
      "9 \t 2022-06-27 13:25:57.151067 \t val_df.csv 4.1 kB\n"
     ]
    }
   ],
   "source": [
    "listfiles(MODEL_DIR)"
   ]
  },
  {
   "cell_type": "code",
   "execution_count": 84,
   "metadata": {},
   "outputs": [
    {
     "name": "stdout",
     "output_type": "stream",
     "text": [
      "# ---------------------------------------------------------\n",
      "# Copyright (c) Microsoft Corporation. All rights reserved.\n",
      "# ---------------------------------------------------------\n",
      "import os\n",
      "import tempfile\n",
      "import logging\n",
      "\n",
      "from azureml.contrib.services.aml_request import rawhttp\n",
      "from azureml.automl.core.shared import logging_utilities\n",
      "from azureml.contrib.services.aml_response import AMLResponse\n",
      "from azureml.core.model import Model\n",
      "\n",
      "from azureml.automl.dnn.vision.common.utils import _set_logging_parameters\n",
      "from azureml.automl.dnn.vision.common.model_export_utils import load_model, run_inference\n",
      "from azureml.automl.dnn.vision.common.logging_utils import get_logger\n",
      "\n",
      "from azureml.automl.dnn.vision.object_detection.writers.score import _score_with_model\n",
      "\n",
      "TASK_TYPE = 'image-instance-segmentation'\n",
      "logger = get_logger('azureml.automl.core.scoring_script_images')\n",
      "\n",
      "\n",
      "def init():\n",
      "    global model\n",
      "\n",
      "    # Set up logging\n",
      "    _set_logging_parameters(TASK_TYPE, {})\n",
      "\n",
      "    model_path = os.path.join(os.getenv('AZUREML_MODEL_DIR'), 'model.pt')\n",
      "    if not os.path.exists(model_path):\n",
      "        model_path = Model.get_model_path(model_name='AutoML4546085690')\n",
      "\n",
      "    try:\n",
      "        logger.info(\"Loading model from path: {}.\".format(model_path))\n",
      "        model_settings = {\"min_size\": 600, \"max_size\": 1333, \"box_score_thresh\": 0.3, \"nms_iou_thresh\": 0.5, \"box_detections_per_img\": 100, \"tile_grid_size\": None, \"tile_overlap_ratio\": 0.25, \"tile_predictions_nms_thresh\": 0.25}\n",
      "        model = load_model(TASK_TYPE, model_path, **model_settings)\n",
      "        logger.info(\"Loading successful.\")\n",
      "    except Exception as e:\n",
      "        logging_utilities.log_traceback(e, logger)\n",
      "        raise\n",
      "\n",
      "\n",
      "@rawhttp\n",
      "def run(request):\n",
      "    logger.info(\"Request: [{0}]\".format(request))\n",
      "    if request.method == 'GET':\n",
      "        response_body = str.encode(request.full_path)\n",
      "        return AMLResponse(response_body, 200)\n",
      "    elif request.method == 'POST':\n",
      "        request_body = request.get_data()\n",
      "        logger.info(\"Running inference.\")\n",
      "        result = run_inference(model, request_body, _score_with_model)\n",
      "        logger.info(\"Finished inferencing.\")\n",
      "        return AMLResponse(result, 200)\n",
      "    else:\n",
      "        return AMLResponse(\"bad request\", 500)\n"
     ]
    }
   ],
   "source": [
    "with open(os.path.join(MODEL_DIR + '/score.py'), 'r') as f:\n",
    "    print(f.read())"
   ]
  },
  {
   "cell_type": "markdown",
   "metadata": {},
   "source": [
    "### 9.2 You can then deploy the model as an AKS web service:"
   ]
  },
  {
   "cell_type": "code",
   "execution_count": 85,
   "metadata": {},
   "outputs": [],
   "source": [
    "aks_modelname = \"metal-scratch-detection\"\n",
    "aks_description = \"Instance segmentation computer vision model to detect scratches\""
   ]
  },
  {
   "cell_type": "code",
   "execution_count": 86,
   "metadata": {},
   "outputs": [
    {
     "name": "stdout",
     "output_type": "stream",
     "text": [
      "Deploying the model into AKS...\n",
      "\n",
      "Tips: You can try get_logs(): https://aka.ms/debugimage#dockerlog or local deployment: https://aka.ms/debugimage#debug-locally to debug if deployment takes longer than 10 minutes.\n",
      "Running\n",
      "2022-06-27 13:26:12+00:00 Creating Container Registry if not exists.\n",
      "2022-06-27 13:26:13+00:00 Registering the environment.\n",
      "2022-06-27 13:26:14+00:00 Use the existing image.\n",
      "2022-06-27 13:26:16+00:00 Creating resources in AKS.\n",
      "2022-06-27 13:26:17+00:00 Submitting deployment to compute.\n",
      "2022-06-27 13:26:17+00:00 Checking the status of deployment metal-scratch-detection..\n",
      "2022-06-27 13:27:07+00:00 Checking the status of inference endpoint metal-scratch-detection.\n",
      "Succeeded\n",
      "AKS service creation operation finished, operation \"Succeeded\"\n",
      "\n",
      "Time to deploy the model into Azure Kubernetes Service: 0:01:03.864054\n"
     ]
    }
   ],
   "source": [
    "# Deploy the model from the best run as an AKS web service\n",
    "from azureml.core.webservice import AksWebservice\n",
    "from azureml.core.model import Model\n",
    "\n",
    "t1 = datetime.datetime.now()\n",
    "print(\"Deploying the model into AKS...\\n\")\n",
    "\n",
    "# Deploy the model from the best run as an AKS web service\n",
    "aks_config = AksWebservice.deploy_configuration(\n",
    "    autoscale_enabled=True,\n",
    "    cpu_cores=1,\n",
    "    memory_gb=5,\n",
    "    enable_app_insights=True,\n",
    "    description=aks_description)\n",
    "\n",
    "aks_service = Model.deploy(\n",
    "    ws,\n",
    "    models=[model],\n",
    "    inference_config=inference_config,\n",
    "    deployment_config=aks_config,\n",
    "    deployment_target=aks_target,\n",
    "    name=aks_modelname,\n",
    "    overwrite=True,\n",
    ")\n",
    "\n",
    "aks_service.wait_for_deployment(show_output=True)\n",
    "\n",
    "print(\"\\nTime to deploy the model into Azure Kubernetes Service:\",\n",
    "      datetime.datetime.now() - t1)"
   ]
  },
  {
   "cell_type": "code",
   "execution_count": 87,
   "metadata": {},
   "outputs": [
    {
     "name": "stdout",
     "output_type": "stream",
     "text": [
      "AKS service status: Healthy\n"
     ]
    }
   ],
   "source": [
    "print(\"AKS service status:\", aks_service.state)"
   ]
  },
  {
   "cell_type": "markdown",
   "metadata": {},
   "source": [
    "### Additional informations"
   ]
  },
  {
   "cell_type": "code",
   "execution_count": 88,
   "metadata": {},
   "outputs": [],
   "source": [
    "# print(\"Computer Vision model endpoint:\", aks_service.scoring_uri)"
   ]
  },
  {
   "cell_type": "code",
   "execution_count": 89,
   "metadata": {},
   "outputs": [
    {
     "name": "stdout",
     "output_type": "stream",
     "text": [
      "Computer Vision model endpoint properties: {'hasInferenceSchema': 'False', 'hasHttps': 'False', 'authEnabled': 'True'}\n"
     ]
    }
   ],
   "source": [
    "print(\"Computer Vision model endpoint properties:\", aks_service.properties)"
   ]
  },
  {
   "cell_type": "code",
   "execution_count": 90,
   "metadata": {},
   "outputs": [],
   "source": [
    "#print(\"AKS Logs:\", aks_service.get_logs())"
   ]
  },
  {
   "cell_type": "code",
   "execution_count": 91,
   "metadata": {},
   "outputs": [],
   "source": [
    "# Let's delete our Azure ML GPU compute cluster\n",
    "compute_target.delete()"
   ]
  },
  {
   "cell_type": "markdown",
   "metadata": {},
   "source": [
    "> End"
   ]
  }
 ],
 "metadata": {
  "kernelspec": {
   "display_name": "Python 3.8 - AzureML",
   "language": "python",
   "name": "python38-azureml"
  },
  "language_info": {
   "codemirror_mode": {
    "name": "ipython",
    "version": 3
   },
   "file_extension": ".py",
   "mimetype": "text/x-python",
   "name": "python",
   "nbconvert_exporter": "python",
   "pygments_lexer": "ipython3",
   "version": "3.8.5"
  },
  "nteract": {
   "version": "nteract-front-end@1.0.0"
  },
  "varInspector": {
   "cols": {
    "lenName": 16,
    "lenType": 16,
    "lenVar": 40
   },
   "kernels_config": {
    "python": {
     "delete_cmd_postfix": "",
     "delete_cmd_prefix": "del ",
     "library": "var_list.py",
     "varRefreshCmd": "print(var_dic_list())"
    },
    "r": {
     "delete_cmd_postfix": ") ",
     "delete_cmd_prefix": "rm(",
     "library": "var_list.r",
     "varRefreshCmd": "cat(var_dic_list()) "
    }
   },
   "types_to_exclude": [
    "module",
    "function",
    "builtin_function_or_method",
    "instance",
    "_Feature"
   ],
   "window_display": false
  }
 },
 "nbformat": 4,
 "nbformat_minor": 2
}
